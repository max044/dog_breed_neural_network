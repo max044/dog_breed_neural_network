{
 "cells": [
  {
   "attachments": {},
   "cell_type": "markdown",
   "metadata": {},
   "source": [
    "# Imports"
   ]
  },
  {
   "cell_type": "code",
   "execution_count": 35,
   "metadata": {},
   "outputs": [],
   "source": [
    "# import the tools we need\n",
    "import os \n",
    "import numpy as np\n",
    "import pandas as pd\n",
    "import matplotlib.pyplot as plt\n",
    "import torch\n",
    "import torch.nn.functional as F\n",
    "import torchvision\n",
    "from torchvision.models import ResNet34_Weights, resnet34, resnet50, resnet101, resnet152\n",
    "from torchvision import transforms\n",
    "from torch.utils.data.dataset import Dataset\n",
    "from torch.utils.data import DataLoader\n",
    "from torchmetrics import Metric, Accuracy\n",
    "from torch.utils.data import random_split"
   ]
  },
  {
   "attachments": {},
   "cell_type": "markdown",
   "metadata": {},
   "source": [
    "# NN Variables"
   ]
  },
  {
   "cell_type": "code",
   "execution_count": 36,
   "metadata": {},
   "outputs": [
    {
     "name": "stdout",
     "output_type": "stream",
     "text": [
      "The model will be running on mps device\n"
     ]
    }
   ],
   "source": [
    "train_data_path = \"../Dog_Breed_dataset/MyTrainData/\"\n",
    "test_data_path = \"../Dog_Breed_dataset/MyTestData/\"\n",
    "\n",
    "input_dim = (224, 224)\n",
    "batch_size = 64\n",
    "EPOCHS = 2\n",
    "\n",
    "device = torch.device(\"mps\" if torch.backends.mps.is_available() else \"cpu\")\n",
    "print(\"The model will be running on\", device, \"device\")"
   ]
  },
  {
   "attachments": {},
   "cell_type": "markdown",
   "metadata": {},
   "source": [
    "# Data"
   ]
  },
  {
   "cell_type": "code",
   "execution_count": 37,
   "metadata": {},
   "outputs": [],
   "source": [
    "classes = [\"Chihuahua\", \"Japanese_spaniel\", \"Maltese_dog\", \"Pekinese\", \"Shih-Tzu\", \"Blenheim_spaniel\", \"papillon\", \"toy_terrier\", \"Rhodesian_ridgeback\", \"Afghan_hound\", \"basset\", \"beagle\", \"bloodhound\", \"bluetick\", \"black-and-tan_coonhound\", \"Walker_hound\", \"English_foxhound\", \"redbone\", \"borzoi\", \"Irish_wolfhound\", \"Italian_greyhound\", \"whippet\", \"Ibizan_hound\", \"Norwegian_elkhound\", \"otterhound\", \"Saluki\", \"Scottish_deerhound\", \"Weimaraner\", \"Staffordshire_bullterrier\", \"American_Staffordshire_terrier\", \"Bedlington_terrier\", \"Border_terrier\", \"Kerry_blue_terrier\", \"Irish_terrier\", \"Norfolk_terrier\", \"Norwich_terrier\", \"Yorkshire_terrier\", \"wire-haired_fox_terrier\", \"Lakeland_terrier\", \"Sealyham_terrier\", \"Airedale\", \"cairn\", \"Australian_terrier\", \"Dandie_Dinmont\", \"Boston_bull\", \"miniature_schnauzer\", \"giant_schnauzer\", \"standard_schnauzer\", \"Scotch_terrier\", \"Tibetan_terrier\", \"silky_terrier\", \"soft-coated_wheaten_terrier\", \"West_Highland_white_terrier\", \"Lhasa\", \"flat-coated_retriever\", \"curly-coated_retriever\", \"golden_retriever\", \"Labrador_retriever\", \"Chesapeake_Bay_retriever\", \"German_short-haired_pointer\", \"vizsla\", \"English_setter\", \"Irish_setter\", \"Gordon_setter\", \"Brittany_spaniel\", \"clumber\", \"English_springer\", \"Welsh_springer_spaniel\", \"cocker_spaniel\", \"Sussex_spaniel\", \"Irish_water_spaniel\", \"kuvasz\", \"schipperke\", \"groenendael\", \"malinois\", \"briard\", \"kelpie\", \"komondor\", \"Old_English_sheepdog\", \"Shetland_sheepdog\", \"collie\", \"Border_collie\", \"Bouvier_des_Flandres\", \"Rottweiler\", \"German_shepherd\", \"Doberman\", \"miniature_pinscher\", \"Greater_Swiss_Mountain_dog\", \"Bernese_mountain_dog\", \"Appenzeller\", \"EntleBucher\", \"boxer\", \"bull_mastiff\", \"Tibetan_mastiff\", \"French_bulldog\", \"Great_Dane\", \"Saint_Bernard\", \"Eskimo_dog\", \"malamute\", \"Siberian_husky\", \"affenpinscher\", \"basenji\", \"pug\", \"Leonberg\", \"Newfoundland\", \"Great_Pyrenees\", \"Samoyed\", \"Pomeranian\", \"chow\", \"keeshond\", \"Brabancon_griffon\", \"Pembroke\", \"Cardigan\", \"toy_poodle\", \"miniature_poodle\", \"standard_poodle\", \"Mexican_hairless\", \"dingo\", \"dhole\", \"African_hunting_dog\"]\n",
    "\n",
    "class DogDataset(Dataset):\n",
    "    def __init__(self, data_path, annotation_file, transform=None):\n",
    "        self.data_path = data_path\n",
    "        self.annotation_file = annotation_file\n",
    "        self.df = pd.read_json(data_path + annotation_file)\n",
    "        self.label_list = []\n",
    "        self.transform = transform\n",
    "\n",
    "        for i in range(len(self.df)):\n",
    "            for annotation in self.df.iloc[i].annotation:\n",
    "                # append annotation['label'] to label_list\n",
    "                self.label_list.append(annotation['label'])\n",
    "    \n",
    "    def __len__(self):\n",
    "        return len(self.df)\n",
    "    \n",
    "    def __getitem__(self, idx):\n",
    "        # Load image and extract dog ROI\n",
    "        image = plt.imread(self.data_path + self.df.iloc[idx].imagefilename)\n",
    "\n",
    "        for annotation in self.df.iloc[idx].annotation:\n",
    "            x, y, width, height = annotation['coordinates'].values()\n",
    "            dog_roi = image[y:y+height, x:x+width]\n",
    "            # remove alpha channel\n",
    "            if dog_roi.shape[2] == 4:\n",
    "                dog_roi = dog_roi[:, :, :3]\n",
    "            \n",
    "            dog_roi = dog_roi / 255.0\n",
    "            dog_roi = torch.from_numpy(dog_roi).permute(2, 0, 1).float()\n",
    "\n",
    "            # Apply any transformations\n",
    "            if self.transform:\n",
    "                dog_roi = self.transform(dog_roi)\n",
    "            \n",
    "            # Get the label\n",
    "            label = torch.tensor(classes.index(annotation['label']))\n",
    "            \n",
    "            # Return a tuple of the image and label\n",
    "            return dog_roi, label\n",
    "\n",
    "transform = torchvision.transforms.Compose([\n",
    "    torchvision.transforms.Resize(input_dim, antialias=True),\n",
    "    torchvision.transforms.RandomHorizontalFlip(),\n",
    "    torchvision.transforms.RandomRotation(10),\n",
    "    # torchvision.transforms.ColorJitter(brightness=0.4, contrast=0.4, saturation=0.4, hue=0.1),\n",
    "    torchvision.transforms.Normalize(mean=[0.485, 0.456, 0.406], std=[0.229, 0.224, 0.225]),\n",
    "])\n",
    "train_dataset = DogDataset(train_data_path, \"train_annotation.json\", transform=transform)\n",
    "\n",
    "# Define the validation set size\n",
    "val_size = 0.2\n",
    "\n",
    "# Calculate the sizes of the train and validation datasets\n",
    "train_size = len(train_dataset)\n",
    "val_size = int(val_size * train_size)\n",
    "train_size = train_size - val_size\n",
    "\n",
    "# Split the train dataset into train and validation datasets\n",
    "train_dataset, val_dataset = random_split(train_dataset, [train_size, val_size])\n",
    "\n",
    "transform = torchvision.transforms.Compose([\n",
    "    torchvision.transforms.Resize(input_dim, antialias=True),\n",
    "    torchvision.transforms.Normalize(mean=[0.485, 0.456, 0.406], std=[0.229, 0.224, 0.225]),\n",
    "])\n",
    "test_dataset = DogDataset(test_data_path, \"test_annotation.json\", transform=transform)\n",
    "\n",
    "# Create data loader\n",
    "train_dataloader = DataLoader(train_dataset, batch_size=batch_size)\n",
    "val_dataloader = DataLoader(train_dataset, batch_size=batch_size)\n",
    "test_dataloader = DataLoader(test_dataset, batch_size=batch_size)\n"
   ]
  },
  {
   "attachments": {},
   "cell_type": "markdown",
   "metadata": {},
   "source": [
    "# Main Training Function"
   ]
  },
  {
   "cell_type": "code",
   "execution_count": 38,
   "metadata": {},
   "outputs": [],
   "source": [
    "# Print the result of 1 epoch\n",
    "def print_epoch_result(train_loss,train_acc,val_loss,val_acc):\n",
    "    print('loss: {:.3f}, acc: {:.3f}, val_loss: {:.3f}, val_acc: {:.3f}'.format(train_loss,\n",
    "                                                                              train_acc,\n",
    "                                                                              val_loss,\n",
    "                                                                              val_acc))\n",
    "# Main Training function\n",
    "def train_model(model, cost_function, optimizer,num_epochs=5):\n",
    "    train_losses = []\n",
    "    val_losses = []\n",
    "    train_acc = []\n",
    "    val_acc = []\n",
    "    \n",
    "    # Metrics object\n",
    "    train_acc_object = Accuracy(task=\"multiclass\", num_classes=120)\n",
    "    val_acc_object = Accuracy(task=\"multiclass\", num_classes=120)\n",
    "    \n",
    "    for epoch in range(num_epochs):\n",
    "        \"\"\"\n",
    "        On epoch start\n",
    "        \"\"\"\n",
    "        print('-'*15)\n",
    "        print('Start training {}/{}'.format(epoch+1, num_epochs))\n",
    "        print('-'*15)\n",
    "        \n",
    "        # Training\n",
    "        train_sub_losses = []\n",
    "        model.train()\n",
    "        for x, y in train_dataloader:\n",
    "            optimizer.zero_grad()\n",
    "            x,y = x.to(device),y.to(device)\n",
    "            y_hat = model(x)\n",
    "            loss = cost_function(y_hat,y)\n",
    "            loss.backward()\n",
    "            optimizer.step()\n",
    "            #lr_scheduler.step()\n",
    "            # update loss sublist\n",
    "            train_sub_losses.append(loss.item())\n",
    "            # update accuracy object\n",
    "            train_acc_object(y_hat.cpu(),y.cpu())\n",
    "            \n",
    "        # Validation\n",
    "        val_sub_losses = []\n",
    "        model.eval()\n",
    "        for x,y in val_dataloader:\n",
    "            x,y = x.to(device),y.to(device)\n",
    "            y_hat = model(x)\n",
    "            loss = cost_function(y_hat,y)\n",
    "            val_sub_losses.append(loss.item())\n",
    "            val_acc_object(y_hat.cpu(),y.cpu())\n",
    "            \n",
    "        \"\"\"\n",
    "        On epoch end\n",
    "        \"\"\"\n",
    "        # Update the loss list\n",
    "        train_losses.append(np.mean(train_sub_losses))\n",
    "        val_losses.append(np.mean(val_sub_losses))\n",
    "        \n",
    "        # Update the accuracy list and reset the metrics object \n",
    "        train_epoch_acc = train_acc_object.compute()\n",
    "        val_epoch_acc = val_acc_object.compute()\n",
    "        train_acc.append(train_epoch_acc)\n",
    "        val_acc.append(val_epoch_acc)\n",
    "        train_acc_object.reset()\n",
    "        val_acc_object.reset()\n",
    "        \n",
    "        # print the result of epoch\n",
    "        print_epoch_result(np.mean(train_sub_losses),train_epoch_acc,np.mean(val_sub_losses),val_epoch_acc)\n",
    "        torch.save(model.state_dict(), 'saved_models/dog_recognition_running.pt')\n",
    "\n",
    "    print('Finish Training.')\n",
    "    return train_losses, train_acc, val_losses, val_acc"
   ]
  },
  {
   "cell_type": "code",
   "execution_count": 39,
   "metadata": {},
   "outputs": [
    {
     "name": "stdout",
     "output_type": "stream",
     "text": [
      "The model will be running on mps device\n"
     ]
    }
   ],
   "source": [
    "device = torch.device(\"mps\" if torch.backends.mps.is_available() else \"cpu\")\n",
    "print(\"The model will be running on\", device, \"device\")"
   ]
  },
  {
   "attachments": {},
   "cell_type": "markdown",
   "metadata": {},
   "source": [
    "# Network Architecture"
   ]
  },
  {
   "cell_type": "code",
   "execution_count": 40,
   "metadata": {},
   "outputs": [
    {
     "name": "stderr",
     "output_type": "stream",
     "text": [
      "/Users/maxencecabiddu/sfsu/semester2/appdev/neural_network/dog_recognizer_env/lib/python3.11/site-packages/torchvision/models/_utils.py:208: UserWarning: The parameter 'pretrained' is deprecated since 0.13 and may be removed in the future, please use 'weights' instead.\n",
      "  warnings.warn(\n",
      "/Users/maxencecabiddu/sfsu/semester2/appdev/neural_network/dog_recognizer_env/lib/python3.11/site-packages/torchvision/models/_utils.py:223: UserWarning: Arguments other than a weight enum or `None` for 'weights' are deprecated since 0.13 and may be removed in the future. The current behavior is equivalent to passing `weights=ResNet50_Weights.IMAGENET1K_V1`. You can also use `weights=ResNet50_Weights.DEFAULT` to get the most up-to-date weights.\n",
      "  warnings.warn(msg)\n"
     ]
    },
    {
     "name": "stdout",
     "output_type": "stream",
     "text": [
      "Loaded model state from Dog_reco.pt\n"
     ]
    }
   ],
   "source": [
    "# Use resnet-50 as a base model\n",
    "class net(torch.nn.Module):\n",
    "    def __init__(self, base_model, base_out_features, num_classes):\n",
    "        super(net,self).__init__()\n",
    "        self.base_model=base_model\n",
    "        self.linear1 = torch.nn.Linear(base_out_features, 512)\n",
    "        self.output = torch.nn.Linear(512,num_classes)\n",
    "    def forward(self,x):\n",
    "        x = F.relu(self.base_model(x))\n",
    "        x = F.relu(self.linear1(x))\n",
    "        x = self.output(x)\n",
    "        return x\n",
    "\n",
    "res = torchvision.models.resnet50(pretrained=True)\n",
    "# res = torchvision.models.resnet34(weights=ResNet34_Weights.IMAGENET1K_V1)\n",
    "for param in res.parameters():\n",
    "    param.requires_grad=False\n",
    "\n",
    "model_final = net(base_model=res, base_out_features=res.fc.out_features, num_classes=120)\n",
    "\n",
    "file_path = \"Dog_reco.pt\"\n",
    "if os.path.exists(file_path):\n",
    "    state_dict = torch.load(file_path)\n",
    "    model_final.load_state_dict(state_dict)\n",
    "    print(f\"Loaded model state from {file_path}\")\n",
    "else:\n",
    "    print(f\"No model state found at {file_path}\")\n",
    "\n",
    "model_final = model_final.to(device)"
   ]
  },
  {
   "cell_type": "code",
   "execution_count": 41,
   "metadata": {},
   "outputs": [],
   "source": [
    "# Cost function and optimzier\n",
    "cost_function = torch.nn.CrossEntropyLoss()\n",
    "optimizer = torch.optim.Adam([param for param in model_final.parameters() if param.requires_grad], lr=0.0003)\n",
    "\n",
    "# Learning rate scheduler\n",
    "#lr_scheduler = torch.optim.lr_scheduler.ExponentialLR(optimizer=optimizer, gamma=0.1)"
   ]
  },
  {
   "cell_type": "code",
   "execution_count": 42,
   "metadata": {},
   "outputs": [
    {
     "name": "stdout",
     "output_type": "stream",
     "text": [
      "---------------\n",
      "Start training 1/1\n",
      "---------------\n",
      "loss: -0.864, acc: 0.895, val_loss: -0.898, val_acc: 0.923\n",
      "Finish Training.\n"
     ]
    }
   ],
   "source": [
    "# Start Training\n",
    "train_losses, train_acc, val_losses, val_acc = train_model(model=model_final, \n",
    "                                                           cost_function=cost_function, \n",
    "                                                           optimizer=optimizer,\n",
    "                                                           num_epochs=EPOCHS)"
   ]
  },
  {
   "cell_type": "code",
   "execution_count": 43,
   "metadata": {},
   "outputs": [],
   "source": [
    "# Save the model\n",
    "# get the current date and time\n",
    "import datetime\n",
    "now = datetime.datetime.now()\n",
    "dt_string = now.strftime(\"%d%m%Y%H%M%S\")\n",
    "torch.save(model_final.state_dict(), 'saved_models/dog_reco_' + dt_string + '.pt')"
   ]
  },
  {
   "attachments": {},
   "cell_type": "markdown",
   "metadata": {},
   "source": [
    "# Plot the result"
   ]
  },
  {
   "cell_type": "code",
   "execution_count": 44,
   "metadata": {},
   "outputs": [
    {
     "data": {
      "image/png": "[encoded data removed]",
      "text/plain": [
       "<Figure size 1000x800 with 2 Axes>"
      ]
     },
     "metadata": {},
     "output_type": "display_data"
    }
   ],
   "source": [
    "def plot_result(train_loss,val_loss,train_acc,val_acc):\n",
    "    plt.style.use('ggplot')\n",
    "    fig, (ax1,ax2) = plt.subplots(2,1,figsize=(10,8))\n",
    "    ax1.plot(train_loss,label='loss')\n",
    "    ax1.plot(val_loss,label='val_loss')\n",
    "    ax1.legend()\n",
    "    ax1.set_xlabel('epoch')\n",
    "    ax1.set_xticks(range(0,EPOCHS+1))\n",
    "    ax2.plot(train_acc, label='acc')\n",
    "    ax2.plot(val_acc,label='val_acc')\n",
    "    ax2.legend()\n",
    "    ax2.set_xlabel('epoch')\n",
    "    ax2.set_xticks(range(0,EPOCHS+1))\n",
    "    plt.show()\n",
    "plot_result(train_losses,val_losses, train_acc,  val_acc)"
   ]
  },
  {
   "attachments": {},
   "cell_type": "markdown",
   "metadata": {},
   "source": [
    "# Do prediction on test data"
   ]
  },
  {
   "cell_type": "code",
   "execution_count": 45,
   "metadata": {},
   "outputs": [
    {
     "name": "stdout",
     "output_type": "stream",
     "text": [
      "Test accuracy = 80.07%\n"
     ]
    }
   ],
   "source": [
    "# Compute accuracy on test set for each epoch\n",
    "model_final.eval()\n",
    "predictions = torch.tensor([])\n",
    "test_acc_object = Accuracy(task=\"multiclass\", num_classes=120)\n",
    "for x,y in test_dataloader:\n",
    "    x,y = x.to(device),y.to(device)\n",
    "    y_hat = model_final(x)\n",
    "    test_acc_object(y_hat.cpu(),y.cpu())\n",
    "    predictions = torch.cat((predictions, y_hat.cpu()), 0)\n",
    "test_acc = test_acc_object.compute()\n",
    "\n",
    "# Print test accuracy for each epoch\n",
    "print('Test accuracy = {:.2f}%'.format(test_acc*100))"
   ]
  },
  {
   "attachments": {},
   "cell_type": "markdown",
   "metadata": {},
   "source": [
    "# Convert to CoreML"
   ]
  },
  {
   "cell_type": "code",
   "execution_count": 46,
   "metadata": {},
   "outputs": [
    {
     "name": "stdout",
     "output_type": "stream",
     "text": [
      "torch.Size([1, 3, 224, 224])\n"
     ]
    }
   ],
   "source": [
    "import coremltools as ct\n",
    "\n",
    "# Load PyTorch model (and perform tracing)\n",
    "torch_model = model_final.to('mps')\n",
    "torch_model.eval()\n",
    "\n",
    "example_input = test_dataloader.dataset[0][0]\n",
    "example_input = example_input.unsqueeze(0).to('mps')\n",
    "print(example_input.shape)\n",
    "traced_model = torch.jit.trace(torch_model, example_input).to('mps')\n",
    "out = traced_model(example_input)"
   ]
  },
  {
   "cell_type": "code",
   "execution_count": 47,
   "metadata": {},
   "outputs": [
    {
     "name": "stderr",
     "output_type": "stream",
     "text": [
      "Converting PyTorch Frontend ==> MIL Ops: 100%|█████████▉| 408/409 [00:00<00:00, 7623.73 ops/s]\n",
      "Running MIL frontend_pytorch pipeline: 100%|██████████| 5/5 [00:00<00:00, 614.55 passes/s]\n",
      "Running MIL default pipeline: 100%|██████████| 56/56 [00:00<00:00, 134.28 passes/s]\n",
      "Running MIL backend_neuralnetwork pipeline: 100%|██████████| 8/8 [00:00<00:00, 1215.26 passes/s]\n",
      "Translating MIL ==> NeuralNetwork Ops: 100%|██████████| 461/461 [00:13<00:00, 33.43 ops/s] \n"
     ]
    }
   ],
   "source": [
    "import coremltools as ct\n",
    "\n",
    "model = ct.convert(\n",
    "    traced_model,\n",
    "    convert_to='neuralnetwork',\n",
    "    # inputs=[ct.TensorType(name='input', shape=example_input.shape)],\n",
    "    inputs=[ct.ImageType(name='input', shape=example_input.shape, scale=1/255.0)],\n",
    "    outputs=[ct.TensorType(name='output')],\n",
    "    classifier_config = ct.ClassifierConfig(classes),\n",
    "    compute_units=ct.ComputeUnit.ALL,\n",
    ")"
   ]
  },
  {
   "cell_type": "code",
   "execution_count": 48,
   "metadata": {},
   "outputs": [],
   "source": [
    "model.save(\"Dog_recognition_img.mlmodel\")"
   ]
  },
  {
   "cell_type": "code",
   "execution_count": null,
   "metadata": {},
   "outputs": [],
   "source": []
  }
 ],
 "metadata": {
  "kernelspec": {
   "display_name": "dog_recognizer_env",
   "language": "python",
   "name": "python3"
  },
  "language_info": {
   "codemirror_mode": {
    "name": "ipython",
    "version": 3
   },
   "file_extension": ".py",
   "mimetype": "text/x-python",
   "name": "python",
   "nbconvert_exporter": "python",
   "pygments_lexer": "ipython3",
   "version": "3.11.3"
  },
  "orig_nbformat": 4
 },
 "nbformat": 4,
 "nbformat_minor": 2
}
